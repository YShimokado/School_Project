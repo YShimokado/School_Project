{
 "cells": [
  {
   "cell_type": "markdown",
   "metadata": {},
   "source": [
    "# HW3: 新規ユーザーの初日の行動と翌日起動の関係を調べる\n",
    "\n",
    "＜お題＞\n",
    "あるキュレーションアプリのユーザーデータのテーブルuser_data.user_masterとstat.user_article_statを使い、2016年1月1日入会ユーザーについて、各ユーザーの入会後24時間以内行動データ（以下のような表）と次の24時間から48時間でアプリを起動したかどうかを作成してください。"
   ]
  },
  {
   "cell_type": "markdown",
   "metadata": {},
   "source": [
    "|user_id|user_login|app_open|topic_follow|article_show|article_read|翌日起動したか|\n",
    "|:-----:|:--------:|:------:|:----------:|:-----------:|:----------:|:----------:|\n",
    "|001|1|1|0|1|0|1|"
   ]
  },
  {
   "cell_type": "markdown",
   "metadata": {},
   "source": [
    "## 質問\n",
    "ダウンロード翌日（ダウンロードしてから24時間後~48時間後)起動する人とそうでない人について、初日にとった以下の行動の回数で大きな差異が見られますか？\n",
    "\n",
    "もし差異があるとしたら、どの行動ですか？\n",
    "\n",
    "* app_open（アプリの起動）\n",
    "* topic_follow　（テーマをフォローした）\n",
    "* article_show　（記事タイトルを見た）\n",
    "* article_read　（記事本文を閲覧した）\n"
   ]
  },
  {
   "cell_type": "code",
   "execution_count": 1,
   "metadata": {
    "collapsed": true
   },
   "outputs": [],
   "source": [
    "%matplotlib inline\n",
    "import pandas as pd\n",
    "import pandas.io.sql as psql\n",
    "import numpy as np\n",
    "import matplotlib\n",
    "import matplotlib.pyplot as plt\n",
    "matplotlib.style.use('ggplot')\n",
    "\n",
    "import psycopg2\n",
    "\n",
    "from __future__ import print_function"
   ]
  },
  {
   "cell_type": "markdown",
   "metadata": {},
   "source": [
    "## データベースへのアクセスを確立する"
   ]
  },
  {
   "cell_type": "code",
   "execution_count": 2,
   "metadata": {
    "collapsed": true
   },
   "outputs": [],
   "source": [
    "db_params = {\n",
    "    'dbname': 'XXXXXXXX',\n",
    "    'user': 'XXXXXXX',\n",
    "    'password': 'XXXXXXXXX',\n",
    "    'host': \"XXXXXXXXXXXXXXXXXXXXXXXXXXXXXXX\",\n",
    "    'port': XXXX\n",
    "}\n",
    "\n",
    "con = psycopg2.connect(**db_params)"
   ]
  },
  {
   "cell_type": "markdown",
   "metadata": {},
   "source": [
    "\n",
    "## DBからデータを取得する\n",
    "\n",
    "ユーザー毎に、アプリ起動回数、テーマフォロー数、記事タイトル表示数、記事本文閲覧数を集計しながら取得する。"
   ]
  },
  {
   "cell_type": "code",
   "execution_count": 3,
   "metadata": {
    "scrolled": true
   },
   "outputs": [
    {
     "data": {
      "text/html": [
       "<div>\n",
       "<style>\n",
       "    .dataframe thead tr:only-child th {\n",
       "        text-align: right;\n",
       "    }\n",
       "\n",
       "    .dataframe thead th {\n",
       "        text-align: left;\n",
       "    }\n",
       "\n",
       "    .dataframe tbody tr th {\n",
       "        vertical-align: top;\n",
       "    }\n",
       "</style>\n",
       "<table border=\"1\" class=\"dataframe\">\n",
       "  <thead>\n",
       "    <tr style=\"text-align: right;\">\n",
       "      <th></th>\n",
       "      <th>user_id</th>\n",
       "      <th>app_open_count</th>\n",
       "      <th>topic_follow_count</th>\n",
       "      <th>article_show_count</th>\n",
       "      <th>article_read_count</th>\n",
       "      <th>appopen_nextday_count</th>\n",
       "      <th>appopen_nextday_xx</th>\n",
       "    </tr>\n",
       "  </thead>\n",
       "  <tbody>\n",
       "    <tr>\n",
       "      <th>0</th>\n",
       "      <td>758530</td>\n",
       "      <td>0</td>\n",
       "      <td>0</td>\n",
       "      <td>0</td>\n",
       "      <td>0</td>\n",
       "      <td>NaN</td>\n",
       "      <td>0</td>\n",
       "    </tr>\n",
       "    <tr>\n",
       "      <th>1</th>\n",
       "      <td>758454</td>\n",
       "      <td>1</td>\n",
       "      <td>0</td>\n",
       "      <td>27</td>\n",
       "      <td>0</td>\n",
       "      <td>3.0</td>\n",
       "      <td>1</td>\n",
       "    </tr>\n",
       "    <tr>\n",
       "      <th>2</th>\n",
       "      <td>758459</td>\n",
       "      <td>4</td>\n",
       "      <td>0</td>\n",
       "      <td>12</td>\n",
       "      <td>3</td>\n",
       "      <td>5.0</td>\n",
       "      <td>1</td>\n",
       "    </tr>\n",
       "    <tr>\n",
       "      <th>3</th>\n",
       "      <td>758470</td>\n",
       "      <td>5</td>\n",
       "      <td>0</td>\n",
       "      <td>266</td>\n",
       "      <td>14</td>\n",
       "      <td>NaN</td>\n",
       "      <td>0</td>\n",
       "    </tr>\n",
       "    <tr>\n",
       "      <th>4</th>\n",
       "      <td>758481</td>\n",
       "      <td>21</td>\n",
       "      <td>0</td>\n",
       "      <td>1864</td>\n",
       "      <td>65</td>\n",
       "      <td>4.0</td>\n",
       "      <td>1</td>\n",
       "    </tr>\n",
       "  </tbody>\n",
       "</table>\n",
       "</div>"
      ],
      "text/plain": [
       "   user_id  app_open_count  topic_follow_count  article_show_count  \\\n",
       "0   758530               0                   0                   0   \n",
       "1   758454               1                   0                  27   \n",
       "2   758459               4                   0                  12   \n",
       "3   758470               5                   0                 266   \n",
       "4   758481              21                   0                1864   \n",
       "\n",
       "   article_read_count  appopen_nextday_count  appopen_nextday_xx  \n",
       "0                   0                    NaN                   0  \n",
       "1                   0                    3.0                   1  \n",
       "2                   3                    5.0                   1  \n",
       "3                  14                    NaN                   0  \n",
       "4                  65                    4.0                   1  "
      ]
     },
     "execution_count": 3,
     "metadata": {},
     "output_type": "execute_result"
    }
   ],
   "source": [
    "my_sql_hw=\"\"\"\n",
    "WITH\n",
    "target_user as(\n",
    "select*\n",
    "from user_data.user_master\n",
    "WHERE created_at + interval '9hours' >='2016-01-01 00:00:00'\n",
    "and created_at + interval '9hours' <'2016-01-02 00:00:00'),\n",
    "\n",
    "first_day_user as(\n",
    "select\n",
    "a.user_id,\n",
    "sum(case when b.behave_type ='app_open' then 1 else 0 end) as app_open_count,\n",
    "sum(case when b.behave_type ='topic_follow' then 1 else 0 end) as topic_follow_count,\n",
    "sum(case when b.behave_type ='article_show' then 1 else 0 end) as article_show_count,\n",
    "sum(case when b.behave_type ='article_read' then 1 else 0 end) as article_read_count\n",
    "from target_user as a\n",
    "inner join\n",
    "stat.user_article_stat as b\n",
    "on a.user_id = b.user_id\n",
    "where b.created_at >= a.created_at\n",
    "AND b.created_at < a.created_at + interval '24hours'\n",
    "GROUP BY a.user_id\n",
    "),\n",
    "\n",
    "appopen_nextday as(\n",
    "SELECT\n",
    "target_user.user_id,\n",
    "SUM(CASE WHEN stat.user_article_stat.behave_type ='app_open' THEN 1 ELSE 0 END) AS appopen_nextday_count\n",
    "FROM target_user\n",
    "INNER JOIN\n",
    "stat.user_article_stat\n",
    "on target_user.user_id = stat.user_article_stat.user_id\n",
    "WHERE stat.user_article_stat.created_at >= target_user.created_at + interval '24hours'\n",
    "AND stat.user_article_stat.created_at <= target_user.created_at + interval '48hours'\n",
    "AND stat.user_article_stat.behave_type ='app_open'\n",
    "GROUP BY target_user.user_id\n",
    ")\n",
    "\n",
    "SELECT \n",
    "c.user_id,\n",
    "app_open_count,\n",
    "topic_follow_count,\n",
    "article_show_count,\n",
    "article_read_count,\n",
    "appopen_nextday_count,\n",
    "CASE WHEN d.appopen_nextday_count is NULL THEN 0 ELSE 1 END AS appopen_nextday_xx\n",
    "FROM first_day_user as c\n",
    "LEFT OUTER JOIN appopen_nextday as d\n",
    "ON c.user_id = d.user_id\n",
    "\"\"\"\n",
    "\n",
    "user_article_data = psql.read_sql(con=con, sql=my_sql_hw)\n",
    "user_article_data.head()"
   ]
  },
  {
   "cell_type": "code",
   "execution_count": 4,
   "metadata": {},
   "outputs": [
    {
     "data": {
      "text/plain": [
       "(94, 7)"
      ]
     },
     "execution_count": 4,
     "metadata": {},
     "output_type": "execute_result"
    }
   ],
   "source": [
    "user_article_data.shape"
   ]
  },
  {
   "cell_type": "markdown",
   "metadata": {},
   "source": [
    "## 結果の確認\n",
    "ダウンロード翌日に起動したユーザーとしなかったユーザーそれぞれで、各カラムの平均をとり、アプリ起動ユーザー群で特に割合の高い項目を探す。"
   ]
  },
  {
   "cell_type": "code",
   "execution_count": 5,
   "metadata": {},
   "outputs": [
    {
     "name": "stdout",
     "output_type": "stream",
     "text": [
      "アプリの起動: 2.9345776772247363\n",
      "記事タイトルを見た: 6.26337672274068\n",
      "記事本文を閲覧した=最も大きな差異: 18.371448371448373\n"
     ]
    }
   ],
   "source": [
    "appopen_y_data = user_article_data[user_article_data[\"appopen_nextday_xx\"] == 1]\n",
    "appopen_n_data = user_article_data[user_article_data[\"appopen_nextday_xx\"] == 0]\n",
    "\n",
    "#それぞれaverageを出す\n",
    "appopen_y_appopen = appopen_y_data[\"app_open_count\"].mean()\n",
    "appopen_n_appopen = appopen_n_data[\"app_open_count\"].mean()\n",
    "\n",
    "print (\"アプリの起動:\",appopen_y_appopen / appopen_n_appopen)\n",
    "\n",
    "appopen_y_topicfollow = appopen_y_data[\"topic_follow_count\"].mean()\n",
    "appopen_n_topicfollow = appopen_n_data[\"topic_follow_count\"].mean()\n",
    "\n",
    "appopen_y_artshow = appopen_y_data[\"article_show_count\"].mean() \n",
    "appopen_n_artshow = appopen_n_data[\"article_show_count\"].mean()\n",
    "\n",
    "print(\"記事タイトルを見た:\",appopen_y_artshow/appopen_n_artshow)\n",
    "\n",
    "appopen_y_artread = appopen_y_data[\"article_read_count\"].mean()\n",
    "appopen_n_artread = appopen_n_data[\"article_read_count\"].mean()\n",
    "\n",
    "print(\"記事本文を閲覧した=最も大きな差異:\",appopen_y_artread/appopen_n_artread)"
   ]
  }
 ],
 "metadata": {
  "kernelspec": {
   "display_name": "Python 3",
   "language": "python",
   "name": "python3"
  },
  "language_info": {
   "codemirror_mode": {
    "name": "ipython",
    "version": 3
   },
   "file_extension": ".py",
   "mimetype": "text/x-python",
   "name": "python",
   "nbconvert_exporter": "python",
   "pygments_lexer": "ipython3",
   "version": "3.6.1"
  }
 },
 "nbformat": 4,
 "nbformat_minor": 1
}
